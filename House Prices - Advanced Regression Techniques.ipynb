{
 "cells": [
  {
   "cell_type": "markdown",
   "id": "6a60c9f4",
   "metadata": {},
   "source": [
    "![](https://storage.googleapis.com/kaggle-media/competitions/House%20Prices/kaggle_5407_media_housesbanner.png)"
   ]
  },
  {
   "cell_type": "markdown",
   "id": "963a8770",
   "metadata": {},
   "source": [
    "# HousePricesPrediction"
   ]
  },
  {
   "cell_type": "code",
   "execution_count": 1,
   "id": "f4d53825",
   "metadata": {},
   "outputs": [],
   "source": [
    "import numpy as np\n",
    "import matplotlib.pyplot as plt\n",
    "import pandas as pd\n",
    "\n",
    "# Попросите покупателя дома описать дом своей мечты, \n",
    "# и он, вероятно, не начнет с высоты потолка подвала \n",
    "# или близости к железной дороге с востока на запад. \n",
    "# Но набор данных этого конкурса игровых площадок доказывает, \n",
    "# что гораздо больше влияет на ценовые переговоры, \n",
    "# чем количество спален или забор из белого штакетника.\n",
    "\n",
    "# С 79 независимыми переменными, описывающими (почти) каждый аспект жилых домов в Эймсе, \n",
    "# штат Айова, этот конкурс ставит перед вами задачу предсказать окончательную цену каждого дома."
   ]
  },
  {
   "cell_type": "markdown",
   "id": "7d22399f",
   "metadata": {},
   "source": [
    "# Читаем и изучаем полученные данные"
   ]
  },
  {
   "cell_type": "markdown",
   "id": "f9442736",
   "metadata": {},
   "source": [
    "**Читаем данные и обрезаем Id столбец, он не нужен для обучения** "
   ]
  },
  {
   "cell_type": "code",
   "execution_count": 4,
   "id": "eb30967b",
   "metadata": {},
   "outputs": [],
   "source": [
    "data_train = pd.read_csv(r'train.csv')\n",
    "data_train = data_train.drop('Id', axis=1)"
   ]
  },
  {
   "cell_type": "markdown",
   "id": "2f64b521",
   "metadata": {},
   "source": [
    "**Выводим первые пять строк**"
   ]
  },
  {
   "cell_type": "code",
   "execution_count": 5,
   "id": "6d9096df",
   "metadata": {
    "scrolled": true
   },
   "outputs": [
    {
     "data": {
      "text/html": [
       "<div>\n",
       "<style scoped>\n",
       "    .dataframe tbody tr th:only-of-type {\n",
       "        vertical-align: middle;\n",
       "    }\n",
       "\n",
       "    .dataframe tbody tr th {\n",
       "        vertical-align: top;\n",
       "    }\n",
       "\n",
       "    .dataframe thead th {\n",
       "        text-align: right;\n",
       "    }\n",
       "</style>\n",
       "<table border=\"1\" class=\"dataframe\">\n",
       "  <thead>\n",
       "    <tr style=\"text-align: right;\">\n",
       "      <th></th>\n",
       "      <th>MSSubClass</th>\n",
       "      <th>MSZoning</th>\n",
       "      <th>LotFrontage</th>\n",
       "      <th>LotArea</th>\n",
       "      <th>Street</th>\n",
       "      <th>Alley</th>\n",
       "      <th>LotShape</th>\n",
       "      <th>LandContour</th>\n",
       "      <th>Utilities</th>\n",
       "      <th>LotConfig</th>\n",
       "      <th>...</th>\n",
       "      <th>PoolArea</th>\n",
       "      <th>PoolQC</th>\n",
       "      <th>Fence</th>\n",
       "      <th>MiscFeature</th>\n",
       "      <th>MiscVal</th>\n",
       "      <th>MoSold</th>\n",
       "      <th>YrSold</th>\n",
       "      <th>SaleType</th>\n",
       "      <th>SaleCondition</th>\n",
       "      <th>SalePrice</th>\n",
       "    </tr>\n",
       "  </thead>\n",
       "  <tbody>\n",
       "    <tr>\n",
       "      <th>0</th>\n",
       "      <td>60</td>\n",
       "      <td>RL</td>\n",
       "      <td>65.0</td>\n",
       "      <td>8450</td>\n",
       "      <td>Pave</td>\n",
       "      <td>NaN</td>\n",
       "      <td>Reg</td>\n",
       "      <td>Lvl</td>\n",
       "      <td>AllPub</td>\n",
       "      <td>Inside</td>\n",
       "      <td>...</td>\n",
       "      <td>0</td>\n",
       "      <td>NaN</td>\n",
       "      <td>NaN</td>\n",
       "      <td>NaN</td>\n",
       "      <td>0</td>\n",
       "      <td>2</td>\n",
       "      <td>2008</td>\n",
       "      <td>WD</td>\n",
       "      <td>Normal</td>\n",
       "      <td>208500</td>\n",
       "    </tr>\n",
       "    <tr>\n",
       "      <th>1</th>\n",
       "      <td>20</td>\n",
       "      <td>RL</td>\n",
       "      <td>80.0</td>\n",
       "      <td>9600</td>\n",
       "      <td>Pave</td>\n",
       "      <td>NaN</td>\n",
       "      <td>Reg</td>\n",
       "      <td>Lvl</td>\n",
       "      <td>AllPub</td>\n",
       "      <td>FR2</td>\n",
       "      <td>...</td>\n",
       "      <td>0</td>\n",
       "      <td>NaN</td>\n",
       "      <td>NaN</td>\n",
       "      <td>NaN</td>\n",
       "      <td>0</td>\n",
       "      <td>5</td>\n",
       "      <td>2007</td>\n",
       "      <td>WD</td>\n",
       "      <td>Normal</td>\n",
       "      <td>181500</td>\n",
       "    </tr>\n",
       "    <tr>\n",
       "      <th>2</th>\n",
       "      <td>60</td>\n",
       "      <td>RL</td>\n",
       "      <td>68.0</td>\n",
       "      <td>11250</td>\n",
       "      <td>Pave</td>\n",
       "      <td>NaN</td>\n",
       "      <td>IR1</td>\n",
       "      <td>Lvl</td>\n",
       "      <td>AllPub</td>\n",
       "      <td>Inside</td>\n",
       "      <td>...</td>\n",
       "      <td>0</td>\n",
       "      <td>NaN</td>\n",
       "      <td>NaN</td>\n",
       "      <td>NaN</td>\n",
       "      <td>0</td>\n",
       "      <td>9</td>\n",
       "      <td>2008</td>\n",
       "      <td>WD</td>\n",
       "      <td>Normal</td>\n",
       "      <td>223500</td>\n",
       "    </tr>\n",
       "    <tr>\n",
       "      <th>3</th>\n",
       "      <td>70</td>\n",
       "      <td>RL</td>\n",
       "      <td>60.0</td>\n",
       "      <td>9550</td>\n",
       "      <td>Pave</td>\n",
       "      <td>NaN</td>\n",
       "      <td>IR1</td>\n",
       "      <td>Lvl</td>\n",
       "      <td>AllPub</td>\n",
       "      <td>Corner</td>\n",
       "      <td>...</td>\n",
       "      <td>0</td>\n",
       "      <td>NaN</td>\n",
       "      <td>NaN</td>\n",
       "      <td>NaN</td>\n",
       "      <td>0</td>\n",
       "      <td>2</td>\n",
       "      <td>2006</td>\n",
       "      <td>WD</td>\n",
       "      <td>Abnorml</td>\n",
       "      <td>140000</td>\n",
       "    </tr>\n",
       "    <tr>\n",
       "      <th>4</th>\n",
       "      <td>60</td>\n",
       "      <td>RL</td>\n",
       "      <td>84.0</td>\n",
       "      <td>14260</td>\n",
       "      <td>Pave</td>\n",
       "      <td>NaN</td>\n",
       "      <td>IR1</td>\n",
       "      <td>Lvl</td>\n",
       "      <td>AllPub</td>\n",
       "      <td>FR2</td>\n",
       "      <td>...</td>\n",
       "      <td>0</td>\n",
       "      <td>NaN</td>\n",
       "      <td>NaN</td>\n",
       "      <td>NaN</td>\n",
       "      <td>0</td>\n",
       "      <td>12</td>\n",
       "      <td>2008</td>\n",
       "      <td>WD</td>\n",
       "      <td>Normal</td>\n",
       "      <td>250000</td>\n",
       "    </tr>\n",
       "  </tbody>\n",
       "</table>\n",
       "<p>5 rows × 80 columns</p>\n",
       "</div>"
      ],
      "text/plain": [
       "   MSSubClass MSZoning  LotFrontage  LotArea Street Alley LotShape  \\\n",
       "0          60       RL         65.0     8450   Pave   NaN      Reg   \n",
       "1          20       RL         80.0     9600   Pave   NaN      Reg   \n",
       "2          60       RL         68.0    11250   Pave   NaN      IR1   \n",
       "3          70       RL         60.0     9550   Pave   NaN      IR1   \n",
       "4          60       RL         84.0    14260   Pave   NaN      IR1   \n",
       "\n",
       "  LandContour Utilities LotConfig  ... PoolArea PoolQC Fence MiscFeature  \\\n",
       "0         Lvl    AllPub    Inside  ...        0    NaN   NaN         NaN   \n",
       "1         Lvl    AllPub       FR2  ...        0    NaN   NaN         NaN   \n",
       "2         Lvl    AllPub    Inside  ...        0    NaN   NaN         NaN   \n",
       "3         Lvl    AllPub    Corner  ...        0    NaN   NaN         NaN   \n",
       "4         Lvl    AllPub       FR2  ...        0    NaN   NaN         NaN   \n",
       "\n",
       "  MiscVal MoSold  YrSold  SaleType  SaleCondition  SalePrice  \n",
       "0       0      2    2008        WD         Normal     208500  \n",
       "1       0      5    2007        WD         Normal     181500  \n",
       "2       0      9    2008        WD         Normal     223500  \n",
       "3       0      2    2006        WD        Abnorml     140000  \n",
       "4       0     12    2008        WD         Normal     250000  \n",
       "\n",
       "[5 rows x 80 columns]"
      ]
     },
     "execution_count": 5,
     "metadata": {},
     "output_type": "execute_result"
    }
   ],
   "source": [
    "data_train.head()"
   ]
  },
  {
   "cell_type": "code",
   "execution_count": null,
   "id": "c36498d5",
   "metadata": {},
   "outputs": [],
   "source": []
  },
  {
   "cell_type": "markdown",
   "id": "d8782910",
   "metadata": {},
   "source": [
    "**Описание наименований столбцов**\n",
    "- SalePrice: цена продажи недвижимости в долларах. Это целевая переменная, которую вы пытаетесь предсказать.\n",
    "- MSSubClass: класс здания\n",
    "- MSZoning: Общая классификация зонирования\n",
    "- LotFrontage: Линейные футы улицы, соединенной с недвижимостью\n",
    "- LotArea: Размер участка в квадратных футах.\n",
    "- Улица: Тип подъездной дороги\n",
    "- Аллея: Тип доступа к аллее\n",
    "- LotShape: Общий вид недвижимости\n",
    "- LandContour: Плоскостность объекта\n",
    "- Утилиты: Тип доступных утилит\n",
    "- LotConfig: конфигурация лота\n",
    "- LandSlope: уклон участка\n",
    "- Окрестности: физические местоположения в черте города Эймс.\n",
    "- Условие 1: Близость к главной дороге или железной дороге\n",
    "- Условие 2: близость к главной дороге или железной дороге (при наличии второй)\n",
    "- BldgType: Тип жилья\n",
    "- HouseStyle: стиль жилья\n",
    "- Общее качество: общее качество материала и отделки.\n",
    "- TotalCond: общая оценка состояния\n",
    "- Год постройки: Первоначальная дата постройки\n",
    "- YearRemodAdd: дата переделки\n",
    "- RoofStyle: тип крыши\n",
    "- RoofMatl: Материал крыши\n",
    "- Exterior1st: Внешнее покрытие дома\n",
    "- Exterior2nd: Внешнее покрытие дома (если более одного материала)\n",
    "- MasVnrType: Тип каменной кладки\n",
    "- MasVnrArea: Площадь каменной кладки в квадратных футах.\n",
    "- ExterQual: качество материалов экстерьера\n",
    "- ExterCond: Текущее состояние материала снаружи.\n",
    "- Фундамент: Тип фундамента\n",
    "- BsmtQual: Высота подвала\n",
    "- BsmtCond: Общее состояние подвала\n",
    "- BsmtExposure: Стены подвала на уровне выхода или сада.\n",
    "- BsmtFinType1: Качество отделки цокольного этажа\n",
    "- BsmtFinSF1: тип 1 с отделкой в квадратных футах\n",
    "- BsmtFinType2: Качество второй обработанной области (если присутствует)\n",
    "- BsmtFinSF2: тип 2 с отделкой в квадратных футах\n",
    "- BsmtUnfSF: Незавершенные квадратные футы цокольного этажа.\n",
    "- TotalBsmtSF: Общая площадь подвала в квадратных футах.\n",
    "- Отопление: Тип отопления\n",
    "- ОтоплениеQC: Качество и состояние отопления\n",
    "- CentralAir: центральное кондиционирование\n",
    "- Электрика: Электрическая система\n",
    "- 1stFlrSF: квадратные футы первого этажа\n",
    "- 2ndFlrSF: Квадратные футы второго этажа.\n",
    "- LowQualFinSF: квадратные футы с отделкой низкого качества (все этажи)\n",
    "- GrLivArea: жилая площадь над землей в квадратных футах\n",
    "- BsmtFullBath: Ванные комнаты в подвале\n",
    "- BsmtHalfBath: Половина ванных комнат в подвале\n",
    "- FullBath: полностью оборудованные ванные комнаты выше уровня земли.\n",
    "- HalfBath: полуванны выше уровня\n",
    "- Спальня: Количество спален выше цокольного этажа\n",
    "- Кухня: Количество кухонь\n",
    "- KitchenQual: Качество кухни\n",
    "- TotRmsAbvGrd: Общее количество комнат выше класса (не включая ванные комнаты)\n",
    "- Функциональность: рейтинг домашней функциональности\n",
    "- Камины: Количество каминов\n",
    "- FireplaceQu: качество камина\n",
    "- GarageType: Место в гараже\n",
    "- GarageYrBlt: Год постройки гаража.\n",
    "- GarageFinish: Внутренняя отделка гаража\n",
    "- GarageCars: Размер гаража по вместимости автомобиля\n",
    "- GarageArea: Размер гаража в квадратных футах.\n",
    "- GarageQual: качество гаража\n",
    "- GarageCond: Гаражное состояние\n",
    "- PavedDrive: Асфальтированная дорога\n",
    "- WoodDeckSF: площадь деревянной палубы в квадратных футах.\n",
    "- OpenPorchSF: площадь открытого крыльца в квадратных футах.\n",
    "- EnclosedPorch: закрытая площадь крыльца в квадратных футах.\n",
    "- 3SsnPorch: площадь крыльца для трех сезонов в квадратных футах.\n",
    "- ScreenPorch: Площадь крыльца в квадратных футах.\n",
    "- PoolArea: Площадь бассейна в квадратных футах.\n",
    "- PoolQC: качество пула\n",
    "- Забор: Качество забора\n",
    "- MiscFeature: Разная функция, не включенная в другие категории.\n",
    "- MiscVal: Значение различных функций\n",
    "- MoSold: месяц продажи\n",
    "- Год продажи: Год продажи\n",
    "- SaleType: Тип продажи\n",
    "- Состояние продажи: Состояние продажи"
   ]
  },
  {
   "cell_type": "markdown",
   "id": "8ab53da9",
   "metadata": {},
   "source": [
    "**Строим диаграмму распределений исходного датасета и проводим описание данных**"
   ]
  },
  {
   "cell_type": "code",
   "execution_count": 6,
   "id": "1dc9f294",
   "metadata": {},
   "outputs": [
    {
     "name": "stdout",
     "output_type": "stream",
     "text": [
      "count      1460.000000\n",
      "mean     180921.195890\n",
      "std       79442.502883\n",
      "min       34900.000000\n",
      "25%      129975.000000\n",
      "50%      163000.000000\n",
      "75%      214000.000000\n",
      "max      755000.000000\n",
      "Name: SalePrice, dtype: float64\n"
     ]
    },
    {
     "data": {
      "image/png": "[encoded data removed]",
      "text/plain": [
       "<Figure size 1080x432 with 1 Axes>"
      ]
     },
     "metadata": {
      "needs_background": "light"
     },
     "output_type": "display_data"
    }
   ],
   "source": [
    "data_train.hist(column = 'SalePrice', bins = 70,figsize=(15,6), zorder=2, rwidth=0.9)\n",
    "print(data_train['SalePrice'].describe())"
   ]
  },
  {
   "cell_type": "markdown",
   "id": "56476745",
   "metadata": {},
   "source": [
    "**Строим диаграмму размаха цены исходного датасета**"
   ]
  },
  {
   "cell_type": "code",
   "execution_count": 7,
   "id": "ed7c8f73",
   "metadata": {},
   "outputs": [
    {
     "data": {
      "image/png": "[encoded data removed]",
      "text/plain": [
       "<Figure size 720x432 with 1 Axes>"
      ]
     },
     "metadata": {
      "needs_background": "light"
     },
     "output_type": "display_data"
    }
   ],
   "source": [
    "plt.figure(figsize=(10,6))\n",
    "plt.boxplot(x=data_train['SalePrice'])\n",
    "plt.show()"
   ]
  },
  {
   "cell_type": "markdown",
   "id": "ed9fa46b",
   "metadata": {},
   "source": [
    "**Строим диаграмму рассеивания**"
   ]
  },
  {
   "cell_type": "code",
   "execution_count": 8,
   "id": "a6b1e87f",
   "metadata": {},
   "outputs": [
    {
     "data": {
      "image/png": "[encoded data removed]",
      "text/plain": [
       "<Figure size 720x432 with 1 Axes>"
      ]
     },
     "metadata": {
      "needs_background": "light"
     },
     "output_type": "display_data"
    }
   ],
   "source": [
    "plt.figure(figsize=(10,6))\n",
    "plt.scatter(x = list(range(data_train['SalePrice'].size)),\n",
    "                       y = data_train['SalePrice'].tolist())\n",
    "plt.show()"
   ]
  },
  {
   "cell_type": "markdown",
   "id": "bee8f8db",
   "metadata": {},
   "source": [
    "**Вывод по данным**\n",
    " - Данные имеют нормальное распределение с выбросами, что наблюдается по построенным диаграммам;\n",
    " - В данных присутствуют также (NaN) Not a Number;\n",
    " - Обычная модель линейной регрессии не может быть использована для решения данной задачи.\n",
    "\n",
    "**Предложени**\n",
    " - Провести два эксперимента по обучению на неотфильтрованной выборке и отфильтровать, убрав выходящие за 2*сигмы значения;\n",
    " - Для лучшей апроксимации данного датасета необходимо использовать алгоритмы деревьев решений;\n",
    " - Найти значения оказывающие максимальное воздействие на выходную стоимость и обучить сеть на них и провести сравнение качества работы."
   ]
  },
  {
   "cell_type": "code",
   "execution_count": null,
   "id": "593d3693",
   "metadata": {},
   "outputs": [],
   "source": []
  },
  {
   "cell_type": "code",
   "execution_count": null,
   "id": "cfd7513c",
   "metadata": {},
   "outputs": [],
   "source": []
  },
  {
   "cell_type": "code",
   "execution_count": 84,
   "id": "6cce6e14",
   "metadata": {},
   "outputs": [],
   "source": [
    "# Как можно наблюдать из гистрограммы и диаграммы размаха, в данной выборке имеется большое количество выбросов\n",
    "# Соответственно, можно провести два эксперимента по обучению на неотфильтрованной выборке и отфильтровать, убрав выходящие\n",
    "# За 2*сигмы значения"
   ]
  },
  {
   "cell_type": "code",
   "execution_count": 57,
   "id": "29dec70a",
   "metadata": {},
   "outputs": [],
   "source": [
    "# Для начала необходимо проверить столбцы на наличие отсутствующих знвачений"
   ]
  },
  {
   "cell_type": "code",
   "execution_count": 34,
   "id": "e2c98430",
   "metadata": {},
   "outputs": [],
   "source": [
    "# # Получаем наименвоание столбцов\n",
    "# name_columns = data_train.columns.values.tolist()"
   ]
  },
  {
   "cell_type": "code",
   "execution_count": 97,
   "id": "dc4ec5e6",
   "metadata": {},
   "outputs": [],
   "source": [
    "# # Перебираем столбцы в поисках отсутствющих значений\n",
    "# # Переменная для хранения значений столбцов с отсутствующими значениями\n",
    "# data_columns_Null = []\n",
    "# for i in name_columns:\n",
    "#     print('--------------------------------')\n",
    "#     print(i, \": \")\n",
    "#     print(data_train[i].isnull().value_counts())\n",
    "#     if len(data_train[i].isnull().value_counts().tolist())  > 1:\n",
    "#         data_columns_Null.append(i)\n",
    "#     print('--------------------------------')"
   ]
  },
  {
   "cell_type": "code",
   "execution_count": 98,
   "id": "2a6509c2",
   "metadata": {},
   "outputs": [],
   "source": [
    "# # Общее количество столбцов с пропущенными значениями составляет \n",
    "# print(len(data_columns_Null), 'шт.')\n",
    "# print('-----------------------------')\n",
    "# print(data_columns_Null)"
   ]
  },
  {
   "cell_type": "code",
   "execution_count": 99,
   "id": "d2e08a6f",
   "metadata": {},
   "outputs": [],
   "source": [
    "# data_train['GarageFinish'].value_counts()."
   ]
  },
  {
   "cell_type": "code",
   "execution_count": null,
   "id": "8dcdcbe3",
   "metadata": {},
   "outputs": [],
   "source": []
  },
  {
   "cell_type": "code",
   "execution_count": 16,
   "id": "6aeb5a73",
   "metadata": {},
   "outputs": [],
   "source": []
  },
  {
   "cell_type": "code",
   "execution_count": 100,
   "id": "72d30578",
   "metadata": {},
   "outputs": [
    {
     "name": "stdout",
     "output_type": "stream",
     "text": [
      "1000 examples in training, 460 examples in testing.\n"
     ]
    }
   ],
   "source": [
    "def split_dataset(dataset, test_ratio=0.30):\n",
    "    test_indices = np.random.rand(len(dataset)) < test_ratio\n",
    "    return dataset[~test_indices], dataset[test_indices]\n",
    "\n",
    "train_ds_pd, valid_ds_pd = split_dataset(data_train)\n",
    "print(\"{} examples in training, {} examples in testing.\".format(len(train_ds_pd), len(valid_ds_pd)))"
   ]
  },
  {
   "cell_type": "code",
   "execution_count": null,
   "id": "64a05919",
   "metadata": {},
   "outputs": [],
   "source": []
  }
 ],
 "metadata": {
  "kernelspec": {
   "display_name": "Python 3 (ipykernel)",
   "language": "python",
   "name": "python3"
  },
  "language_info": {
   "codemirror_mode": {
    "name": "ipython",
    "version": 3
   },
   "file_extension": ".py",
   "mimetype": "text/x-python",
   "name": "python",
   "nbconvert_exporter": "python",
   "pygments_lexer": "ipython3",
   "version": "3.9.10"
  }
 },
 "nbformat": 4,
 "nbformat_minor": 5
}
